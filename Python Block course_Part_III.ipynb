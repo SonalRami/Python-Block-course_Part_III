{
 "cells": [
  {
   "cell_type": "markdown",
   "metadata": {},
   "source": [
    "## Learning = Representation + Evaluation + Optimization\n"
   ]
  },
  {
   "cell_type": "markdown",
   "metadata": {},
   "source": [
    "### -Machine learning means learning from data"
   ]
  },
  {
   "cell_type": "code",
   "execution_count": 216,
   "metadata": {},
   "outputs": [],
   "source": [
    "#importing libraries\n",
    "import numpy as np\n",
    "import pandas as pd\n",
    "import matplotlib.pyplot as plt\n",
    "from sklearn.model_selection import train_test_split\n",
    "from sklearn.metrics import mean_squared_error"
   ]
  },
  {
   "cell_type": "code",
   "execution_count": 133,
   "metadata": {},
   "outputs": [],
   "source": [
    "import numpy as np\n",
    "import matplotlib.pyplot as plt\n",
    "from sklearn.linear_model import LinearRegression"
   ]
  },
  {
   "cell_type": "code",
   "execution_count": 243,
   "metadata": {},
   "outputs": [],
   "source": [
    "x=list(range(150))\n",
    "y=np.random.randint(1,20,150)+x\n",
    "\n",
    "train_x=np.array(x)\n",
    "train_y=np.array(y)"
   ]
  },
  {
   "cell_type": "code",
   "execution_count": 244,
   "metadata": {},
   "outputs": [
    {
     "name": "stdout",
     "output_type": "stream",
     "text": [
      "x: [1 2 3 4 5 6 7 8 9] \n",
      "y: [10  8 18 22 17 16 20 19 17]\n"
     ]
    }
   ],
   "source": [
    "print(\"x:\",train_x[1:10], \"\\ny:\",train_y[1:10])"
   ]
  },
  {
   "cell_type": "code",
   "execution_count": 245,
   "metadata": {},
   "outputs": [
    {
     "data": {
      "text/plain": [
       "LinearRegression()"
      ]
     },
     "execution_count": 245,
     "metadata": {},
     "output_type": "execute_result"
    }
   ],
   "source": [
    "model = LinearRegression(fit_intercept=True)\n",
    "model.fit(train_x[:,np.newaxis], train_y[:,np.newaxis])"
   ]
  },
  {
   "cell_type": "code",
   "execution_count": 246,
   "metadata": {},
   "outputs": [],
   "source": [
    "yfit=model.predict(train_x[:,np.newaxis])\n"
   ]
  },
  {
   "cell_type": "code",
   "execution_count": 247,
   "metadata": {},
   "outputs": [
    {
     "data": {
      "image/png": "[encoded data removed]",
      "text/plain": [
       "<Figure size 1008x432 with 1 Axes>"
      ]
     },
     "metadata": {
      "needs_background": "light"
     },
     "output_type": "display_data"
    }
   ],
   "source": [
    "plt.figure(figsize=(14,6))\n",
    "plt.scatter(train_x, train_y)\n",
    "plt.plot(train_x, yfit, color='red');\n",
    "plt.show()"
   ]
  },
  {
   "cell_type": "code",
   "execution_count": 248,
   "metadata": {},
   "outputs": [
    {
     "name": "stdout",
     "output_type": "stream",
     "text": [
      "Coef: [[1.01059069]]  Intercept: [8.71099338]\n"
     ]
    }
   ],
   "source": [
    "print(\"Coef:\",model.coef_, \" Intercept:\",model.intercept_)\n"
   ]
  },
  {
   "cell_type": "code",
   "execution_count": 249,
   "metadata": {},
   "outputs": [
    {
     "name": "stdout",
     "output_type": "stream",
     "text": [
      "[[ 9.72158407 10.73217476 11.74276546 12.75335615]]\n"
     ]
    }
   ],
   "source": [
    "print(model.intercept_+model.coef_*[1,2,3,4])\n"
   ]
  },
  {
   "cell_type": "code",
   "execution_count": 250,
   "metadata": {},
   "outputs": [
    {
     "name": "stdout",
     "output_type": "stream",
     "text": [
      "[[ 9.72158407]\n",
      " [10.73217476]\n",
      " [11.74276546]\n",
      " [12.75335615]]\n"
     ]
    }
   ],
   "source": [
    "print(yfit[1:5])\n"
   ]
  },
  {
   "cell_type": "code",
   "execution_count": 251,
   "metadata": {},
   "outputs": [
    {
     "data": {
      "text/plain": [
       "(150,)"
      ]
     },
     "execution_count": 251,
     "metadata": {},
     "output_type": "execute_result"
    }
   ],
   "source": [
    "train_y.shape"
   ]
  },
  {
   "cell_type": "code",
   "execution_count": 252,
   "metadata": {},
   "outputs": [
    {
     "data": {
      "text/plain": [
       "(150, 1)"
      ]
     },
     "execution_count": 252,
     "metadata": {},
     "output_type": "execute_result"
    }
   ],
   "source": [
    "yfit.shape"
   ]
  },
  {
   "cell_type": "code",
   "execution_count": 253,
   "metadata": {},
   "outputs": [
    {
     "data": {
      "text/plain": [
       "(150,)"
      ]
     },
     "execution_count": 253,
     "metadata": {},
     "output_type": "execute_result"
    }
   ],
   "source": [
    "train_x.shape"
   ]
  },
  {
   "cell_type": "markdown",
   "metadata": {},
   "source": [
    "### np.newaxis and reshape both are same, use interchangeably:  for used to increase the dimension of the existing array"
   ]
  },
  {
   "cell_type": "code",
   "execution_count": 254,
   "metadata": {},
   "outputs": [
    {
     "data": {
      "text/plain": [
       "(150, 1)"
      ]
     },
     "execution_count": 254,
     "metadata": {},
     "output_type": "execute_result"
    }
   ],
   "source": [
    "train_x[:,np.newaxis].shape"
   ]
  },
  {
   "cell_type": "code",
   "execution_count": 255,
   "metadata": {},
   "outputs": [],
   "source": [
    "train_x_reshape=train_x.reshape(-1,1)"
   ]
  },
  {
   "cell_type": "code",
   "execution_count": 256,
   "metadata": {},
   "outputs": [
    {
     "data": {
      "text/plain": [
       "array([[  0],\n",
       "       [  1],\n",
       "       [  2],\n",
       "       [  3],\n",
       "       [  4],\n",
       "       [  5],\n",
       "       [  6],\n",
       "       [  7],\n",
       "       [  8],\n",
       "       [  9],\n",
       "       [ 10],\n",
       "       [ 11],\n",
       "       [ 12],\n",
       "       [ 13],\n",
       "       [ 14],\n",
       "       [ 15],\n",
       "       [ 16],\n",
       "       [ 17],\n",
       "       [ 18],\n",
       "       [ 19],\n",
       "       [ 20],\n",
       "       [ 21],\n",
       "       [ 22],\n",
       "       [ 23],\n",
       "       [ 24],\n",
       "       [ 25],\n",
       "       [ 26],\n",
       "       [ 27],\n",
       "       [ 28],\n",
       "       [ 29],\n",
       "       [ 30],\n",
       "       [ 31],\n",
       "       [ 32],\n",
       "       [ 33],\n",
       "       [ 34],\n",
       "       [ 35],\n",
       "       [ 36],\n",
       "       [ 37],\n",
       "       [ 38],\n",
       "       [ 39],\n",
       "       [ 40],\n",
       "       [ 41],\n",
       "       [ 42],\n",
       "       [ 43],\n",
       "       [ 44],\n",
       "       [ 45],\n",
       "       [ 46],\n",
       "       [ 47],\n",
       "       [ 48],\n",
       "       [ 49],\n",
       "       [ 50],\n",
       "       [ 51],\n",
       "       [ 52],\n",
       "       [ 53],\n",
       "       [ 54],\n",
       "       [ 55],\n",
       "       [ 56],\n",
       "       [ 57],\n",
       "       [ 58],\n",
       "       [ 59],\n",
       "       [ 60],\n",
       "       [ 61],\n",
       "       [ 62],\n",
       "       [ 63],\n",
       "       [ 64],\n",
       "       [ 65],\n",
       "       [ 66],\n",
       "       [ 67],\n",
       "       [ 68],\n",
       "       [ 69],\n",
       "       [ 70],\n",
       "       [ 71],\n",
       "       [ 72],\n",
       "       [ 73],\n",
       "       [ 74],\n",
       "       [ 75],\n",
       "       [ 76],\n",
       "       [ 77],\n",
       "       [ 78],\n",
       "       [ 79],\n",
       "       [ 80],\n",
       "       [ 81],\n",
       "       [ 82],\n",
       "       [ 83],\n",
       "       [ 84],\n",
       "       [ 85],\n",
       "       [ 86],\n",
       "       [ 87],\n",
       "       [ 88],\n",
       "       [ 89],\n",
       "       [ 90],\n",
       "       [ 91],\n",
       "       [ 92],\n",
       "       [ 93],\n",
       "       [ 94],\n",
       "       [ 95],\n",
       "       [ 96],\n",
       "       [ 97],\n",
       "       [ 98],\n",
       "       [ 99],\n",
       "       [100],\n",
       "       [101],\n",
       "       [102],\n",
       "       [103],\n",
       "       [104],\n",
       "       [105],\n",
       "       [106],\n",
       "       [107],\n",
       "       [108],\n",
       "       [109],\n",
       "       [110],\n",
       "       [111],\n",
       "       [112],\n",
       "       [113],\n",
       "       [114],\n",
       "       [115],\n",
       "       [116],\n",
       "       [117],\n",
       "       [118],\n",
       "       [119],\n",
       "       [120],\n",
       "       [121],\n",
       "       [122],\n",
       "       [123],\n",
       "       [124],\n",
       "       [125],\n",
       "       [126],\n",
       "       [127],\n",
       "       [128],\n",
       "       [129],\n",
       "       [130],\n",
       "       [131],\n",
       "       [132],\n",
       "       [133],\n",
       "       [134],\n",
       "       [135],\n",
       "       [136],\n",
       "       [137],\n",
       "       [138],\n",
       "       [139],\n",
       "       [140],\n",
       "       [141],\n",
       "       [142],\n",
       "       [143],\n",
       "       [144],\n",
       "       [145],\n",
       "       [146],\n",
       "       [147],\n",
       "       [148],\n",
       "       [149]])"
      ]
     },
     "execution_count": 256,
     "metadata": {},
     "output_type": "execute_result"
    }
   ],
   "source": [
    "train_x_reshape"
   ]
  },
  {
   "cell_type": "markdown",
   "metadata": {},
   "source": [
    "## Regression with Keras"
   ]
  },
  {
   "cell_type": "code",
   "execution_count": 168,
   "metadata": {},
   "outputs": [],
   "source": [
    "import random\n",
    "import numpy as np\n",
    "import matplotlib.pyplot as plt\n",
    "from tensorflow.keras.models import Sequential\n",
    "from tensorflow.keras.layers import Dense\n",
    "from tensorflow.keras.wrappers.scikit_learn import KerasRegressor\n",
    "from sklearn.metrics import mean_squared_error"
   ]
  },
  {
   "cell_type": "code",
   "execution_count": 281,
   "metadata": {},
   "outputs": [],
   "source": [
    "random.seed(123)\n",
    "def CreateDataset(N):\n",
    " a,b,c,y = [],[],[],[]\n",
    " for i in range(N):    \n",
    "  aa = i/20+random.uniform(-4,3)\n",
    "  bb = i/40+random.uniform(-4,4)\n",
    "  cc = i/50+random.uniform(-3,3)-5\n",
    "  yy = (aa+bb+cc/2)/3\n",
    "  a.append([aa])\n",
    "  b.append([bb])\n",
    "  c.append([cc])\n",
    "  y.append([yy])\n",
    " return np.hstack([a,b,c]), np.array(y)"
   ]
  },
  {
   "cell_type": "code",
   "execution_count": 282,
   "metadata": {},
   "outputs": [
    {
     "name": "stdout",
     "output_type": "stream",
     "text": [
      "-3.63345480804339\n",
      "-3.339693257341574\n",
      "-1.0493076543072117\n",
      "-3.0960983554309265\n",
      "2.5083921456618627\n",
      "-3.4829243372837433\n",
      "0.053414280237488565\n",
      "-1.324616110432241\n",
      "2.36460633250558\n",
      "-2.4323632229462104\n",
      "-1.1394834002350716\n",
      "-1.113425237597313\n",
      "-1.6838565323767223\n",
      "-3.33830612494544\n",
      "-0.24606944609347114\n",
      "-2.63670550174704\n",
      "0.983196251415934\n",
      "-2.660861269785723\n",
      "-0.8917871838489567\n",
      "0.08825195814860609\n",
      "3.337790565991492\n",
      "-2.300648070350534\n",
      "-1.9047745489794923\n",
      "2.680502910511611\n",
      "-2.6513481762810756\n",
      "3.628053836632245\n",
      "1.3138565997664904\n",
      "-0.7927480631690567\n",
      "3.264863509365941\n",
      "2.831563232359885\n",
      "-0.09576489290824775\n",
      "3.1604761390442304\n",
      "-0.9519627053372202\n",
      "1.9123176833338733\n",
      "1.3895246651299165\n",
      "3.4153696725066336\n",
      "0.006842065511916795\n",
      "0.6376670602752945\n",
      "3.284953629397467\n",
      "1.5392649370484552\n",
      "2.7938605306270423\n",
      "2.518472850138491\n",
      "2.766603417512267\n",
      "4.380689993758317\n",
      "1.6029552910049478\n",
      "2.929291553322029\n",
      "0.9216514227573831\n",
      "-1.427110852812287\n",
      "3.679212203012105\n",
      "-0.27974558859471355\n",
      "4.241331291036817\n",
      "4.945521383049607\n",
      "3.206519101807555\n",
      "-0.15911178630364242\n",
      "1.0584130695419436\n",
      "1.488353149499119\n",
      "-0.6869645531341941\n",
      "2.047369491410176\n",
      "2.9121796015737202\n",
      "1.3027426951688383\n",
      "0.3234330870465354\n",
      "-0.3328989355174681\n",
      "3.4982226591155485\n",
      "-0.7601962352317062\n",
      "1.663395781687408\n",
      "0.8539083513619894\n",
      "3.023982434772352\n",
      "4.41564345783469\n",
      "5.7640729294574555\n",
      "3.9216058747017097\n",
      "6.44255169826341\n",
      "6.298414206127172\n",
      "4.00993496806972\n",
      "1.2836122886031172\n",
      "3.086680378502027\n",
      "0.9931281140173351\n",
      "6.743704409559518\n",
      "2.961499441043519\n",
      "5.161551106192711\n",
      "0.25890899204510776\n",
      "0.9430932044564351\n",
      "1.4022387902964755\n",
      "1.8945364310757973\n",
      "2.614332713147734\n",
      "2.1035089662872615\n",
      "3.2898800852885763\n",
      "3.242501217145378\n",
      "1.110345841371211\n",
      "0.838261423798218\n",
      "2.935430128495154\n",
      "1.1215223340715355\n",
      "3.5824021971401283\n",
      "0.659928503410085\n",
      "4.400607130245952\n",
      "1.2143879490053675\n",
      "5.609441402894645\n",
      "3.629450869589731\n",
      "7.747437224218292\n",
      "2.73778013803335\n",
      "4.257575182849303\n",
      "6.2557045886748845\n",
      "3.393813783664264\n",
      "3.5385691446553595\n",
      "5.6238955605967895\n",
      "7.9878025408611455\n",
      "7.43716096686023\n",
      "4.233264735711556\n",
      "6.374025351465124\n",
      "6.153363661526808\n",
      "4.054767335067137\n",
      "3.144744062489256\n",
      "2.098635346988577\n",
      "7.752362558190935\n",
      "2.0501144938650766\n",
      "5.330872873294801\n",
      "5.512754642539816\n",
      "2.822974635631254\n",
      "6.441522018664778\n",
      "8.310762355017395\n",
      "7.3829307887682605\n",
      "4.724814866329858\n",
      "2.9352897118363064\n",
      "8.924506963521765\n",
      "5.769724406577375\n",
      "6.607323376593083\n",
      "7.865936518647264\n",
      "5.003723140249221\n",
      "2.784390352588317\n",
      "3.3521105377613307\n",
      "7.129129959227789\n",
      "4.946777799338602\n",
      "8.647540454336369\n",
      "7.781151561744171\n",
      "9.513074026831863\n",
      "7.38184048055143\n",
      "4.876640453957478\n",
      "8.33776410535176\n",
      "3.047806239947988\n",
      "6.551135401979046\n",
      "9.049762675299482\n",
      "6.60303398144281\n",
      "4.011600485481292\n",
      "6.600857574741859\n",
      "6.968204187484705\n",
      "5.783003838169052\n",
      "9.504034921462068\n",
      "5.680565953627215\n",
      "5.252259718691642\n",
      "6.944110407700203\n",
      "4.872904358844926\n",
      "5.754400587468147\n",
      "6.337191266575252\n",
      "10.167837420879538\n",
      "4.21253269085948\n",
      "5.079664082347729\n",
      "5.146495411595746\n",
      "10.766855095606003\n",
      "10.085660911501362\n",
      "5.259143062515173\n",
      "7.90237143051994\n",
      "4.595700205867836\n",
      "6.269197419182856\n",
      "6.488009718669526\n",
      "7.913773984717379\n",
      "10.705620250355963\n",
      "9.913136016936555\n",
      "8.03928389659615\n",
      "9.852560379454868\n",
      "7.787713264271681\n",
      "9.563922296378706\n",
      "9.938681097310575\n",
      "6.347962166341713\n",
      "10.429439310711471\n",
      "8.695609213933809\n",
      "8.102839708206446\n",
      "7.520693208288311\n",
      "6.369048649686437\n",
      "8.358802871962732\n",
      "5.782743606479885\n",
      "9.393479277504417\n",
      "11.287877757523368\n",
      "10.583682206335524\n",
      "9.364104498866642\n",
      "8.611320947138681\n",
      "10.07047521838819\n",
      "6.106214246443566\n",
      "5.66704759690553\n",
      "11.381529510209935\n",
      "7.932887523649508\n",
      "10.132631052960505\n",
      "8.445331686798829\n",
      "8.060693896682265\n",
      "10.99200177150464\n",
      "8.051232977809184\n",
      "10.975997715795714\n",
      "11.493346884693505\n",
      "7.064732373331648\n",
      "12.690613101740317\n",
      "6.337095328356162\n",
      "8.853091487492215\n",
      "9.503323583739657\n",
      "11.85550414674724\n",
      "7.324150747018459\n",
      "10.063213280102836\n",
      "8.779620335132737\n",
      "12.701779909963108\n",
      "7.156287534218198\n",
      "8.20791246980285\n",
      "12.138618107424382\n",
      "8.705638088169552\n",
      "13.109547366679429\n",
      "6.911227423710992\n",
      "9.318927086067191\n",
      "7.402261327645457\n",
      "10.714712254398808\n",
      "13.491872049453786\n",
      "9.072865941365851\n",
      "11.37785085974604\n",
      "8.761400238319842\n",
      "10.024551634038726\n",
      "11.000647741618556\n",
      "8.788893163513528\n",
      "11.933277889999772\n",
      "10.6569706814342\n",
      "13.538242370346074\n",
      "9.175148907007635\n",
      "13.98398241208032\n",
      "8.62544084089529\n",
      "7.539385566091834\n",
      "12.071432620847279\n",
      "12.636337629878714\n",
      "10.891252287818043\n",
      "7.899320491344896\n",
      "14.636939607511358\n",
      "8.6908623045749\n",
      "13.843270790491005\n",
      "14.040728405060058\n",
      "9.395999044059465\n",
      "13.947573121078882\n",
      "11.193844244843824\n",
      "14.297077688310006\n",
      "14.262663868142194\n",
      "13.520082119240781\n",
      "10.170971692653314\n",
      "12.26073378999834\n",
      "15.119194895755987\n",
      "10.544363562084065\n",
      "11.055506120570298\n",
      "13.215925160155287\n",
      "8.88844951019518\n"
     ]
    }
   ],
   "source": [
    "for i in range(250):\n",
    "    aa = i/20+random.uniform(-4,3)\n",
    "    print(aa)\n"
   ]
  },
  {
   "cell_type": "code",
   "execution_count": 283,
   "metadata": {},
   "outputs": [
    {
     "data": {
      "image/png": "[encoded data removed]",
      "text/plain": [
       "<Figure size 1008x432 with 1 Axes>"
      ]
     },
     "metadata": {
      "needs_background": "light"
     },
     "output_type": "display_data"
    }
   ],
   "source": [
    "N = 250\n",
    "x,y = CreateDataset(N)\n",
    "x_ax = range(N)\n",
    "plt.figure(figsize=(14,6))\n",
    "plt.plot(x_ax, x, 'o', label=\"feature\", markersize=3)\n",
    "plt.plot(x_ax, y, lw=1.5, color=\"purple\", label=\"y\")\n",
    "plt.legend()\n",
    "plt.show()"
   ]
  },
  {
   "cell_type": "code",
   "execution_count": 284,
   "metadata": {},
   "outputs": [
    {
     "name": "stdout",
     "output_type": "stream",
     "text": [
      "Train on 250 samples\n",
      "250/250 [==============================] - 0s 2ms/sample - loss: 0.6746\n"
     ]
    },
    {
     "data": {
      "text/plain": [
       "<tensorflow.python.keras.callbacks.History at 0x7f52d0653f90>"
      ]
     },
     "execution_count": 284,
     "metadata": {},
     "output_type": "execute_result"
    }
   ],
   "source": [
    "regressor = KerasRegressor(build_fn=BuildModel,nb_epoch=100,batch_size=3)\n",
    "regressor.fit(x,y) "
   ]
  },
  {
   "cell_type": "code",
   "execution_count": 285,
   "metadata": {},
   "outputs": [],
   "source": [
    "y_pred = regressor.predict(x)\n"
   ]
  },
  {
   "cell_type": "code",
   "execution_count": 286,
   "metadata": {},
   "outputs": [
    {
     "name": "stdout",
     "output_type": "stream",
     "text": [
      "0.22053894237864033\n"
     ]
    }
   ],
   "source": [
    "mse_krr = mean_squared_error(y, y_pred)\n",
    "print(mse_krr)"
   ]
  },
  {
   "cell_type": "code",
   "execution_count": 287,
   "metadata": {},
   "outputs": [
    {
     "data": {
      "image/png": "[encoded data removed]",
      "text/plain": [
       "<Figure size 1008x432 with 1 Axes>"
      ]
     },
     "metadata": {
      "needs_background": "light"
     },
     "output_type": "display_data"
    }
   ],
   "source": [
    "plt.figure(figsize=(14,6))\n",
    "plt.plot(y, label=\"y-original\")\n",
    "plt.plot(y_pred, label=\"y-predicted\")\n",
    "plt.legend()\n",
    "plt.show()"
   ]
  },
  {
   "cell_type": "code",
   "execution_count": 288,
   "metadata": {},
   "outputs": [],
   "source": [
    "def BuildModel():\n",
    " model = Sequential()\n",
    " model.add(Dense(128, input_dim=3,activation='relu')) \n",
    " model.add(Dense(32, activation='relu')) \n",
    " model.add(Dense(8,activation='relu')) \n",
    " model.add(Dense(1,activation='linear'))\n",
    " model.compile(loss=\"mean_squared_error\", optimizer=\"adam\")   \n",
    " return model\n"
   ]
  },
  {
   "cell_type": "code",
   "execution_count": 289,
   "metadata": {},
   "outputs": [
    {
     "name": "stdout",
     "output_type": "stream",
     "text": [
      "Model: \"sequential_11\"\n",
      "_________________________________________________________________\n",
      "Layer (type)                 Output Shape              Param #   \n",
      "=================================================================\n",
      "dense_44 (Dense)             (None, 128)               512       \n",
      "_________________________________________________________________\n",
      "dense_45 (Dense)             (None, 32)                4128      \n",
      "_________________________________________________________________\n",
      "dense_46 (Dense)             (None, 8)                 264       \n",
      "_________________________________________________________________\n",
      "dense_47 (Dense)             (None, 1)                 9         \n",
      "=================================================================\n",
      "Total params: 4,913\n",
      "Trainable params: 4,913\n",
      "Non-trainable params: 0\n",
      "_________________________________________________________________\n"
     ]
    }
   ],
   "source": [
    "BuildModel().summary()\n"
   ]
  },
  {
   "cell_type": "code",
   "execution_count": 290,
   "metadata": {},
   "outputs": [
    {
     "name": "stdout",
     "output_type": "stream",
     "text": [
      "WARNING:tensorflow:The `nb_epoch` argument in `fit` has been renamed `epochs`.\n",
      "Train on 250 samples\n",
      "Epoch 1/100\n",
      "250/250 [==============================] - 0s 1ms/sample - loss: 2.1733\n",
      "Epoch 2/100\n",
      "250/250 [==============================] - 0s 87us/sample - loss: 0.6008\n",
      "Epoch 3/100\n",
      "250/250 [==============================] - 0s 87us/sample - loss: 0.5191\n",
      "Epoch 4/100\n",
      "250/250 [==============================] - 0s 106us/sample - loss: 0.3802\n",
      "Epoch 5/100\n",
      "250/250 [==============================] - 0s 90us/sample - loss: 0.3067\n",
      "Epoch 6/100\n",
      "250/250 [==============================] - 0s 89us/sample - loss: 0.2873\n",
      "Epoch 7/100\n",
      "250/250 [==============================] - 0s 94us/sample - loss: 0.2568\n",
      "Epoch 8/100\n",
      "250/250 [==============================] - 0s 83us/sample - loss: 0.1980\n",
      "Epoch 9/100\n",
      "250/250 [==============================] - 0s 91us/sample - loss: 0.1428\n",
      "Epoch 10/100\n",
      "250/250 [==============================] - 0s 88us/sample - loss: 0.1028\n",
      "Epoch 11/100\n",
      "250/250 [==============================] - 0s 89us/sample - loss: 0.0735\n",
      "Epoch 12/100\n",
      "250/250 [==============================] - 0s 96us/sample - loss: 0.0523\n",
      "Epoch 13/100\n",
      "250/250 [==============================] - 0s 78us/sample - loss: 0.0375\n",
      "Epoch 14/100\n",
      "250/250 [==============================] - 0s 79us/sample - loss: 0.0257\n",
      "Epoch 15/100\n",
      "250/250 [==============================] - 0s 97us/sample - loss: 0.0177\n",
      "Epoch 16/100\n",
      "250/250 [==============================] - 0s 84us/sample - loss: 0.0124\n",
      "Epoch 17/100\n",
      "250/250 [==============================] - 0s 107us/sample - loss: 0.0086\n",
      "Epoch 18/100\n",
      "250/250 [==============================] - 0s 110us/sample - loss: 0.0062\n",
      "Epoch 19/100\n",
      "250/250 [==============================] - 0s 93us/sample - loss: 0.0045\n",
      "Epoch 20/100\n",
      "250/250 [==============================] - 0s 81us/sample - loss: 0.0035\n",
      "Epoch 21/100\n",
      "250/250 [==============================] - 0s 87us/sample - loss: 0.0028\n",
      "Epoch 22/100\n",
      "250/250 [==============================] - 0s 73us/sample - loss: 0.0023\n",
      "Epoch 23/100\n",
      "250/250 [==============================] - 0s 85us/sample - loss: 0.0020\n",
      "Epoch 24/100\n",
      "250/250 [==============================] - 0s 83us/sample - loss: 0.0018\n",
      "Epoch 25/100\n",
      "250/250 [==============================] - 0s 78us/sample - loss: 0.0016\n",
      "Epoch 26/100\n",
      "250/250 [==============================] - 0s 72us/sample - loss: 0.0015\n",
      "Epoch 27/100\n",
      "250/250 [==============================] - 0s 71us/sample - loss: 0.0014\n",
      "Epoch 28/100\n",
      "250/250 [==============================] - 0s 83us/sample - loss: 0.0013\n",
      "Epoch 29/100\n",
      "250/250 [==============================] - 0s 71us/sample - loss: 0.0012\n",
      "Epoch 30/100\n",
      "250/250 [==============================] - 0s 85us/sample - loss: 0.0012\n",
      "Epoch 31/100\n",
      "250/250 [==============================] - 0s 80us/sample - loss: 0.0011\n",
      "Epoch 32/100\n",
      "250/250 [==============================] - 0s 84us/sample - loss: 0.0011\n",
      "Epoch 33/100\n",
      "250/250 [==============================] - 0s 72us/sample - loss: 0.0010\n",
      "Epoch 34/100\n",
      "250/250 [==============================] - 0s 81us/sample - loss: 0.0010\n",
      "Epoch 35/100\n",
      "250/250 [==============================] - 0s 91us/sample - loss: 9.8285e-04\n",
      "Epoch 36/100\n",
      "250/250 [==============================] - 0s 83us/sample - loss: 9.6237e-04\n",
      "Epoch 37/100\n",
      "250/250 [==============================] - 0s 80us/sample - loss: 9.5138e-04\n",
      "Epoch 38/100\n",
      "250/250 [==============================] - 0s 77us/sample - loss: 9.4203e-04\n",
      "Epoch 39/100\n",
      "250/250 [==============================] - 0s 82us/sample - loss: 9.4987e-04\n",
      "Epoch 40/100\n",
      "250/250 [==============================] - 0s 78us/sample - loss: 9.5064e-04\n",
      "Epoch 41/100\n",
      "250/250 [==============================] - 0s 91us/sample - loss: 9.7608e-04\n",
      "Epoch 42/100\n",
      "250/250 [==============================] - 0s 89us/sample - loss: 9.9008e-04\n",
      "Epoch 43/100\n",
      "250/250 [==============================] - 0s 88us/sample - loss: 0.0010\n",
      "Epoch 44/100\n",
      "250/250 [==============================] - 0s 78us/sample - loss: 0.0010\n",
      "Epoch 45/100\n",
      "250/250 [==============================] - 0s 93us/sample - loss: 0.0010\n",
      "Epoch 46/100\n",
      "250/250 [==============================] - 0s 77us/sample - loss: 9.5769e-04\n",
      "Epoch 47/100\n",
      "250/250 [==============================] - 0s 86us/sample - loss: 9.2491e-04\n",
      "Epoch 48/100\n",
      "250/250 [==============================] - 0s 114us/sample - loss: 8.2095e-04\n",
      "Epoch 49/100\n",
      "250/250 [==============================] - 0s 80us/sample - loss: 7.6451e-04\n",
      "Epoch 50/100\n",
      "250/250 [==============================] - 0s 98us/sample - loss: 6.6884e-04\n",
      "Epoch 51/100\n",
      "250/250 [==============================] - 0s 88us/sample - loss: 6.2612e-04\n",
      "Epoch 52/100\n",
      "250/250 [==============================] - 0s 83us/sample - loss: 5.7147e-04\n",
      "Epoch 53/100\n",
      "250/250 [==============================] - 0s 85us/sample - loss: 5.5584e-04\n",
      "Epoch 54/100\n",
      "250/250 [==============================] - 0s 77us/sample - loss: 5.3912e-04\n",
      "Epoch 55/100\n",
      "250/250 [==============================] - 0s 86us/sample - loss: 5.2673e-04\n",
      "Epoch 56/100\n",
      "250/250 [==============================] - 0s 95us/sample - loss: 5.1737e-04\n",
      "Epoch 57/100\n",
      "250/250 [==============================] - 0s 97us/sample - loss: 5.0141e-04\n",
      "Epoch 58/100\n",
      "250/250 [==============================] - 0s 94us/sample - loss: 4.9117e-04\n",
      "Epoch 59/100\n",
      "250/250 [==============================] - 0s 117us/sample - loss: 4.8197e-04\n",
      "Epoch 60/100\n",
      "250/250 [==============================] - 0s 82us/sample - loss: 4.6876e-04\n",
      "Epoch 61/100\n",
      "250/250 [==============================] - 0s 98us/sample - loss: 4.6028e-04\n",
      "Epoch 62/100\n",
      "250/250 [==============================] - 0s 86us/sample - loss: 4.4989e-04\n",
      "Epoch 63/100\n",
      "250/250 [==============================] - 0s 91us/sample - loss: 4.3847e-04\n",
      "Epoch 64/100\n",
      "250/250 [==============================] - 0s 80us/sample - loss: 4.3094e-04\n",
      "Epoch 65/100\n",
      "250/250 [==============================] - 0s 78us/sample - loss: 4.1873e-04\n",
      "Epoch 66/100\n",
      "250/250 [==============================] - 0s 90us/sample - loss: 4.0926e-04\n",
      "Epoch 67/100\n",
      "250/250 [==============================] - 0s 80us/sample - loss: 4.0391e-04\n",
      "Epoch 68/100\n",
      "250/250 [==============================] - 0s 84us/sample - loss: 3.9079e-04\n",
      "Epoch 69/100\n",
      "250/250 [==============================] - 0s 97us/sample - loss: 3.8332e-04\n",
      "Epoch 70/100\n",
      "250/250 [==============================] - 0s 89us/sample - loss: 3.8041e-04\n",
      "Epoch 71/100\n",
      "250/250 [==============================] - 0s 83us/sample - loss: 3.6759e-04\n",
      "Epoch 72/100\n",
      "250/250 [==============================] - 0s 75us/sample - loss: 3.6383e-04\n",
      "Epoch 73/100\n",
      "250/250 [==============================] - 0s 91us/sample - loss: 3.6438e-04\n",
      "Epoch 74/100\n",
      "250/250 [==============================] - 0s 87us/sample - loss: 3.5477e-04\n",
      "Epoch 75/100\n",
      "250/250 [==============================] - 0s 95us/sample - loss: 3.5982e-04\n",
      "Epoch 76/100\n",
      "250/250 [==============================] - 0s 84us/sample - loss: 3.6484e-04\n",
      "Epoch 77/100\n",
      "250/250 [==============================] - 0s 93us/sample - loss: 3.6470e-04\n",
      "Epoch 78/100\n",
      "250/250 [==============================] - 0s 82us/sample - loss: 3.9663e-04\n",
      "Epoch 79/100\n",
      "250/250 [==============================] - 0s 95us/sample - loss: 4.1645e-04\n",
      "Epoch 80/100\n",
      "250/250 [==============================] - 0s 78us/sample - loss: 4.4153e-04\n",
      "Epoch 81/100\n",
      "250/250 [==============================] - 0s 80us/sample - loss: 5.5712e-04\n",
      "Epoch 82/100\n",
      "250/250 [==============================] - 0s 88us/sample - loss: 6.3813e-04\n",
      "Epoch 83/100\n",
      "250/250 [==============================] - 0s 92us/sample - loss: 7.1748e-04\n",
      "Epoch 84/100\n",
      "250/250 [==============================] - 0s 86us/sample - loss: 0.0011\n",
      "Epoch 85/100\n",
      "250/250 [==============================] - 0s 96us/sample - loss: 0.0014\n",
      "Epoch 86/100\n",
      "250/250 [==============================] - 0s 88us/sample - loss: 0.0016\n",
      "Epoch 87/100\n",
      "250/250 [==============================] - 0s 81us/sample - loss: 0.0028\n",
      "Epoch 88/100\n",
      "250/250 [==============================] - 0s 86us/sample - loss: 0.0036\n",
      "Epoch 89/100\n",
      "250/250 [==============================] - 0s 85us/sample - loss: 0.0046\n",
      "Epoch 90/100\n",
      "250/250 [==============================] - 0s 77us/sample - loss: 0.0080\n",
      "Epoch 91/100\n",
      "250/250 [==============================] - 0s 88us/sample - loss: 0.0099\n",
      "Epoch 92/100\n",
      "250/250 [==============================] - 0s 88us/sample - loss: 0.0146\n",
      "Epoch 93/100\n"
     ]
    },
    {
     "name": "stdout",
     "output_type": "stream",
     "text": [
      "250/250 [==============================] - 0s 89us/sample - loss: 0.0213\n",
      "Epoch 94/100\n",
      "250/250 [==============================] - 0s 104us/sample - loss: 0.0233\n",
      "Epoch 95/100\n",
      "250/250 [==============================] - 0s 103us/sample - loss: 0.0438\n",
      "Epoch 96/100\n",
      "250/250 [==============================] - 0s 71us/sample - loss: 0.0420\n",
      "Epoch 97/100\n",
      "250/250 [==============================] - 0s 86us/sample - loss: 0.0242\n",
      "Epoch 98/100\n",
      "250/250 [==============================] - 0s 74us/sample - loss: 0.0654\n",
      "Epoch 99/100\n",
      "250/250 [==============================] - 0s 76us/sample - loss: 0.0522\n",
      "Epoch 100/100\n",
      "250/250 [==============================] - 0s 81us/sample - loss: 0.0085\n"
     ]
    },
    {
     "data": {
      "text/plain": [
       "<tensorflow.python.keras.callbacks.History at 0x7f52e83cc350>"
      ]
     },
     "execution_count": 290,
     "metadata": {},
     "output_type": "execute_result"
    }
   ],
   "source": [
    "model = BuildModel()\n",
    "model.fit(x, y, nb_epoch=100, verbose=1, shuffle=False)\n"
   ]
  },
  {
   "cell_type": "code",
   "execution_count": 291,
   "metadata": {},
   "outputs": [],
   "source": [
    "y_krm = model.predict(x) "
   ]
  },
  {
   "cell_type": "code",
   "execution_count": 292,
   "metadata": {},
   "outputs": [
    {
     "name": "stdout",
     "output_type": "stream",
     "text": [
      "0.004598052517466117\n"
     ]
    }
   ],
   "source": [
    "mse_krm=mean_squared_error(y, y_krm)\n",
    "print(mse_krm)\n"
   ]
  },
  {
   "cell_type": "code",
   "execution_count": 293,
   "metadata": {},
   "outputs": [
    {
     "data": {
      "image/png": "[encoded data removed]",
      "text/plain": [
       "<Figure size 1152x576 with 1 Axes>"
      ]
     },
     "metadata": {
      "needs_background": "light"
     },
     "output_type": "display_data"
    }
   ],
   "source": [
    "plt.figure(figsize=(16,8))\n",
    "plt.plot(y, label=\"y-original\")\n",
    "plt.plot(y_krm, label=\"y-predicted\")\n",
    "plt.legend()\n",
    "plt.show()"
   ]
  },
  {
   "cell_type": "code",
   "execution_count": 41,
   "metadata": {},
   "outputs": [],
   "source": [
    "#Loading data\n",
    "data = pd.read_csv(\"/home/sonal/Downloads/SSH_SST_Pacific.txt\", delim_whitespace=True)"
   ]
  },
  {
   "cell_type": "code",
   "execution_count": 42,
   "metadata": {},
   "outputs": [
    {
     "data": {
      "text/html": [
       "<div>\n",
       "<style scoped>\n",
       "    .dataframe tbody tr th:only-of-type {\n",
       "        vertical-align: middle;\n",
       "    }\n",
       "\n",
       "    .dataframe tbody tr th {\n",
       "        vertical-align: top;\n",
       "    }\n",
       "\n",
       "    .dataframe thead th {\n",
       "        text-align: right;\n",
       "    }\n",
       "</style>\n",
       "<table border=\"1\" class=\"dataframe\">\n",
       "  <thead>\n",
       "    <tr style=\"text-align: right;\">\n",
       "      <th></th>\n",
       "      <th>Day</th>\n",
       "      <th>Month</th>\n",
       "      <th>Year</th>\n",
       "      <th>SSH</th>\n",
       "      <th>SST</th>\n",
       "    </tr>\n",
       "  </thead>\n",
       "  <tbody>\n",
       "    <tr>\n",
       "      <th>0</th>\n",
       "      <td>(m)</td>\n",
       "      <td>(C)</td>\n",
       "      <td>NaN</td>\n",
       "      <td>NaN</td>\n",
       "      <td>NaN</td>\n",
       "    </tr>\n",
       "    <tr>\n",
       "      <th>1</th>\n",
       "      <td>1</td>\n",
       "      <td>1</td>\n",
       "      <td>1993.0</td>\n",
       "      <td>1.084933</td>\n",
       "      <td>19.395215</td>\n",
       "    </tr>\n",
       "    <tr>\n",
       "      <th>2</th>\n",
       "      <td>2</td>\n",
       "      <td>1</td>\n",
       "      <td>1993.0</td>\n",
       "      <td>1.084017</td>\n",
       "      <td>19.322703</td>\n",
       "    </tr>\n",
       "    <tr>\n",
       "      <th>3</th>\n",
       "      <td>3</td>\n",
       "      <td>1</td>\n",
       "      <td>1993.0</td>\n",
       "      <td>1.073641</td>\n",
       "      <td>19.307321</td>\n",
       "    </tr>\n",
       "    <tr>\n",
       "      <th>4</th>\n",
       "      <td>4</td>\n",
       "      <td>1</td>\n",
       "      <td>1993.0</td>\n",
       "      <td>1.078829</td>\n",
       "      <td>19.384960</td>\n",
       "    </tr>\n",
       "    <tr>\n",
       "      <th>...</th>\n",
       "      <td>...</td>\n",
       "      <td>...</td>\n",
       "      <td>...</td>\n",
       "      <td>...</td>\n",
       "      <td>...</td>\n",
       "    </tr>\n",
       "    <tr>\n",
       "      <th>9486</th>\n",
       "      <td>21</td>\n",
       "      <td>12</td>\n",
       "      <td>2018.0</td>\n",
       "      <td>1.117893</td>\n",
       "      <td>21.234382</td>\n",
       "    </tr>\n",
       "    <tr>\n",
       "      <th>9487</th>\n",
       "      <td>22</td>\n",
       "      <td>12</td>\n",
       "      <td>2018.0</td>\n",
       "      <td>1.114536</td>\n",
       "      <td>21.116459</td>\n",
       "    </tr>\n",
       "    <tr>\n",
       "      <th>9488</th>\n",
       "      <td>23</td>\n",
       "      <td>12</td>\n",
       "      <td>2018.0</td>\n",
       "      <td>1.105686</td>\n",
       "      <td>21.057863</td>\n",
       "    </tr>\n",
       "    <tr>\n",
       "      <th>9489</th>\n",
       "      <td>24</td>\n",
       "      <td>12</td>\n",
       "      <td>2018.0</td>\n",
       "      <td>1.094699</td>\n",
       "      <td>21.062258</td>\n",
       "    </tr>\n",
       "    <tr>\n",
       "      <th>9490</th>\n",
       "      <td>25</td>\n",
       "      <td>12</td>\n",
       "      <td>2018.0</td>\n",
       "      <td>1.101718</td>\n",
       "      <td>21.076174</td>\n",
       "    </tr>\n",
       "  </tbody>\n",
       "</table>\n",
       "<p>9491 rows × 5 columns</p>\n",
       "</div>"
      ],
      "text/plain": [
       "      Day Month    Year       SSH        SST\n",
       "0     (m)   (C)     NaN       NaN        NaN\n",
       "1       1     1  1993.0  1.084933  19.395215\n",
       "2       2     1  1993.0  1.084017  19.322703\n",
       "3       3     1  1993.0  1.073641  19.307321\n",
       "4       4     1  1993.0  1.078829  19.384960\n",
       "...   ...   ...     ...       ...        ...\n",
       "9486   21    12  2018.0  1.117893  21.234382\n",
       "9487   22    12  2018.0  1.114536  21.116459\n",
       "9488   23    12  2018.0  1.105686  21.057863\n",
       "9489   24    12  2018.0  1.094699  21.062258\n",
       "9490   25    12  2018.0  1.101718  21.076174\n",
       "\n",
       "[9491 rows x 5 columns]"
      ]
     },
     "execution_count": 42,
     "metadata": {},
     "output_type": "execute_result"
    }
   ],
   "source": [
    "data"
   ]
  },
  {
   "cell_type": "code",
   "execution_count": 43,
   "metadata": {},
   "outputs": [],
   "source": [
    "data=data[1:] #delete top row"
   ]
  },
  {
   "cell_type": "code",
   "execution_count": 44,
   "metadata": {},
   "outputs": [],
   "source": [
    "data_SST=data.drop(columns='SSH')"
   ]
  },
  {
   "cell_type": "code",
   "execution_count": 45,
   "metadata": {},
   "outputs": [
    {
     "data": {
      "text/html": [
       "<div>\n",
       "<style scoped>\n",
       "    .dataframe tbody tr th:only-of-type {\n",
       "        vertical-align: middle;\n",
       "    }\n",
       "\n",
       "    .dataframe tbody tr th {\n",
       "        vertical-align: top;\n",
       "    }\n",
       "\n",
       "    .dataframe thead th {\n",
       "        text-align: right;\n",
       "    }\n",
       "</style>\n",
       "<table border=\"1\" class=\"dataframe\">\n",
       "  <thead>\n",
       "    <tr style=\"text-align: right;\">\n",
       "      <th></th>\n",
       "      <th>Day</th>\n",
       "      <th>Month</th>\n",
       "      <th>Year</th>\n",
       "      <th>SST</th>\n",
       "    </tr>\n",
       "  </thead>\n",
       "  <tbody>\n",
       "    <tr>\n",
       "      <th>1</th>\n",
       "      <td>1</td>\n",
       "      <td>1</td>\n",
       "      <td>1993.0</td>\n",
       "      <td>19.395215</td>\n",
       "    </tr>\n",
       "    <tr>\n",
       "      <th>2</th>\n",
       "      <td>2</td>\n",
       "      <td>1</td>\n",
       "      <td>1993.0</td>\n",
       "      <td>19.322703</td>\n",
       "    </tr>\n",
       "    <tr>\n",
       "      <th>3</th>\n",
       "      <td>3</td>\n",
       "      <td>1</td>\n",
       "      <td>1993.0</td>\n",
       "      <td>19.307321</td>\n",
       "    </tr>\n",
       "    <tr>\n",
       "      <th>4</th>\n",
       "      <td>4</td>\n",
       "      <td>1</td>\n",
       "      <td>1993.0</td>\n",
       "      <td>19.384960</td>\n",
       "    </tr>\n",
       "    <tr>\n",
       "      <th>5</th>\n",
       "      <td>5</td>\n",
       "      <td>1</td>\n",
       "      <td>1993.0</td>\n",
       "      <td>19.454543</td>\n",
       "    </tr>\n",
       "    <tr>\n",
       "      <th>...</th>\n",
       "      <td>...</td>\n",
       "      <td>...</td>\n",
       "      <td>...</td>\n",
       "      <td>...</td>\n",
       "    </tr>\n",
       "    <tr>\n",
       "      <th>9486</th>\n",
       "      <td>21</td>\n",
       "      <td>12</td>\n",
       "      <td>2018.0</td>\n",
       "      <td>21.234382</td>\n",
       "    </tr>\n",
       "    <tr>\n",
       "      <th>9487</th>\n",
       "      <td>22</td>\n",
       "      <td>12</td>\n",
       "      <td>2018.0</td>\n",
       "      <td>21.116459</td>\n",
       "    </tr>\n",
       "    <tr>\n",
       "      <th>9488</th>\n",
       "      <td>23</td>\n",
       "      <td>12</td>\n",
       "      <td>2018.0</td>\n",
       "      <td>21.057863</td>\n",
       "    </tr>\n",
       "    <tr>\n",
       "      <th>9489</th>\n",
       "      <td>24</td>\n",
       "      <td>12</td>\n",
       "      <td>2018.0</td>\n",
       "      <td>21.062258</td>\n",
       "    </tr>\n",
       "    <tr>\n",
       "      <th>9490</th>\n",
       "      <td>25</td>\n",
       "      <td>12</td>\n",
       "      <td>2018.0</td>\n",
       "      <td>21.076174</td>\n",
       "    </tr>\n",
       "  </tbody>\n",
       "</table>\n",
       "<p>9490 rows × 4 columns</p>\n",
       "</div>"
      ],
      "text/plain": [
       "     Day Month    Year        SST\n",
       "1      1     1  1993.0  19.395215\n",
       "2      2     1  1993.0  19.322703\n",
       "3      3     1  1993.0  19.307321\n",
       "4      4     1  1993.0  19.384960\n",
       "5      5     1  1993.0  19.454543\n",
       "...   ..   ...     ...        ...\n",
       "9486  21    12  2018.0  21.234382\n",
       "9487  22    12  2018.0  21.116459\n",
       "9488  23    12  2018.0  21.057863\n",
       "9489  24    12  2018.0  21.062258\n",
       "9490  25    12  2018.0  21.076174\n",
       "\n",
       "[9490 rows x 4 columns]"
      ]
     },
     "execution_count": 45,
     "metadata": {},
     "output_type": "execute_result"
    }
   ],
   "source": [
    "data_SST"
   ]
  },
  {
   "cell_type": "code",
   "execution_count": 46,
   "metadata": {},
   "outputs": [],
   "source": [
    "data_SST.reset_index(inplace = True) \n"
   ]
  },
  {
   "cell_type": "code",
   "execution_count": 47,
   "metadata": {},
   "outputs": [
    {
     "data": {
      "text/html": [
       "<div>\n",
       "<style scoped>\n",
       "    .dataframe tbody tr th:only-of-type {\n",
       "        vertical-align: middle;\n",
       "    }\n",
       "\n",
       "    .dataframe tbody tr th {\n",
       "        vertical-align: top;\n",
       "    }\n",
       "\n",
       "    .dataframe thead th {\n",
       "        text-align: right;\n",
       "    }\n",
       "</style>\n",
       "<table border=\"1\" class=\"dataframe\">\n",
       "  <thead>\n",
       "    <tr style=\"text-align: right;\">\n",
       "      <th></th>\n",
       "      <th>index</th>\n",
       "      <th>Day</th>\n",
       "      <th>Month</th>\n",
       "      <th>Year</th>\n",
       "      <th>SST</th>\n",
       "    </tr>\n",
       "  </thead>\n",
       "  <tbody>\n",
       "    <tr>\n",
       "      <th>0</th>\n",
       "      <td>1</td>\n",
       "      <td>1</td>\n",
       "      <td>1</td>\n",
       "      <td>1993.0</td>\n",
       "      <td>19.395215</td>\n",
       "    </tr>\n",
       "    <tr>\n",
       "      <th>1</th>\n",
       "      <td>2</td>\n",
       "      <td>2</td>\n",
       "      <td>1</td>\n",
       "      <td>1993.0</td>\n",
       "      <td>19.322703</td>\n",
       "    </tr>\n",
       "    <tr>\n",
       "      <th>2</th>\n",
       "      <td>3</td>\n",
       "      <td>3</td>\n",
       "      <td>1</td>\n",
       "      <td>1993.0</td>\n",
       "      <td>19.307321</td>\n",
       "    </tr>\n",
       "    <tr>\n",
       "      <th>3</th>\n",
       "      <td>4</td>\n",
       "      <td>4</td>\n",
       "      <td>1</td>\n",
       "      <td>1993.0</td>\n",
       "      <td>19.384960</td>\n",
       "    </tr>\n",
       "    <tr>\n",
       "      <th>4</th>\n",
       "      <td>5</td>\n",
       "      <td>5</td>\n",
       "      <td>1</td>\n",
       "      <td>1993.0</td>\n",
       "      <td>19.454543</td>\n",
       "    </tr>\n",
       "    <tr>\n",
       "      <th>...</th>\n",
       "      <td>...</td>\n",
       "      <td>...</td>\n",
       "      <td>...</td>\n",
       "      <td>...</td>\n",
       "      <td>...</td>\n",
       "    </tr>\n",
       "    <tr>\n",
       "      <th>9485</th>\n",
       "      <td>9486</td>\n",
       "      <td>21</td>\n",
       "      <td>12</td>\n",
       "      <td>2018.0</td>\n",
       "      <td>21.234382</td>\n",
       "    </tr>\n",
       "    <tr>\n",
       "      <th>9486</th>\n",
       "      <td>9487</td>\n",
       "      <td>22</td>\n",
       "      <td>12</td>\n",
       "      <td>2018.0</td>\n",
       "      <td>21.116459</td>\n",
       "    </tr>\n",
       "    <tr>\n",
       "      <th>9487</th>\n",
       "      <td>9488</td>\n",
       "      <td>23</td>\n",
       "      <td>12</td>\n",
       "      <td>2018.0</td>\n",
       "      <td>21.057863</td>\n",
       "    </tr>\n",
       "    <tr>\n",
       "      <th>9488</th>\n",
       "      <td>9489</td>\n",
       "      <td>24</td>\n",
       "      <td>12</td>\n",
       "      <td>2018.0</td>\n",
       "      <td>21.062258</td>\n",
       "    </tr>\n",
       "    <tr>\n",
       "      <th>9489</th>\n",
       "      <td>9490</td>\n",
       "      <td>25</td>\n",
       "      <td>12</td>\n",
       "      <td>2018.0</td>\n",
       "      <td>21.076174</td>\n",
       "    </tr>\n",
       "  </tbody>\n",
       "</table>\n",
       "<p>9490 rows × 5 columns</p>\n",
       "</div>"
      ],
      "text/plain": [
       "      index Day Month    Year        SST\n",
       "0         1   1     1  1993.0  19.395215\n",
       "1         2   2     1  1993.0  19.322703\n",
       "2         3   3     1  1993.0  19.307321\n",
       "3         4   4     1  1993.0  19.384960\n",
       "4         5   5     1  1993.0  19.454543\n",
       "...     ...  ..   ...     ...        ...\n",
       "9485   9486  21    12  2018.0  21.234382\n",
       "9486   9487  22    12  2018.0  21.116459\n",
       "9487   9488  23    12  2018.0  21.057863\n",
       "9488   9489  24    12  2018.0  21.062258\n",
       "9489   9490  25    12  2018.0  21.076174\n",
       "\n",
       "[9490 rows x 5 columns]"
      ]
     },
     "execution_count": 47,
     "metadata": {},
     "output_type": "execute_result"
    }
   ],
   "source": [
    "data_SST"
   ]
  },
  {
   "cell_type": "code",
   "execution_count": 48,
   "metadata": {},
   "outputs": [],
   "source": [
    "del data_SST['index']"
   ]
  },
  {
   "cell_type": "code",
   "execution_count": 49,
   "metadata": {},
   "outputs": [
    {
     "data": {
      "text/html": [
       "<div>\n",
       "<style scoped>\n",
       "    .dataframe tbody tr th:only-of-type {\n",
       "        vertical-align: middle;\n",
       "    }\n",
       "\n",
       "    .dataframe tbody tr th {\n",
       "        vertical-align: top;\n",
       "    }\n",
       "\n",
       "    .dataframe thead th {\n",
       "        text-align: right;\n",
       "    }\n",
       "</style>\n",
       "<table border=\"1\" class=\"dataframe\">\n",
       "  <thead>\n",
       "    <tr style=\"text-align: right;\">\n",
       "      <th></th>\n",
       "      <th>Day</th>\n",
       "      <th>Month</th>\n",
       "      <th>Year</th>\n",
       "      <th>SST</th>\n",
       "    </tr>\n",
       "  </thead>\n",
       "  <tbody>\n",
       "    <tr>\n",
       "      <th>0</th>\n",
       "      <td>1</td>\n",
       "      <td>1</td>\n",
       "      <td>1993.0</td>\n",
       "      <td>19.395215</td>\n",
       "    </tr>\n",
       "    <tr>\n",
       "      <th>1</th>\n",
       "      <td>2</td>\n",
       "      <td>1</td>\n",
       "      <td>1993.0</td>\n",
       "      <td>19.322703</td>\n",
       "    </tr>\n",
       "    <tr>\n",
       "      <th>2</th>\n",
       "      <td>3</td>\n",
       "      <td>1</td>\n",
       "      <td>1993.0</td>\n",
       "      <td>19.307321</td>\n",
       "    </tr>\n",
       "    <tr>\n",
       "      <th>3</th>\n",
       "      <td>4</td>\n",
       "      <td>1</td>\n",
       "      <td>1993.0</td>\n",
       "      <td>19.384960</td>\n",
       "    </tr>\n",
       "    <tr>\n",
       "      <th>4</th>\n",
       "      <td>5</td>\n",
       "      <td>1</td>\n",
       "      <td>1993.0</td>\n",
       "      <td>19.454543</td>\n",
       "    </tr>\n",
       "    <tr>\n",
       "      <th>...</th>\n",
       "      <td>...</td>\n",
       "      <td>...</td>\n",
       "      <td>...</td>\n",
       "      <td>...</td>\n",
       "    </tr>\n",
       "    <tr>\n",
       "      <th>9485</th>\n",
       "      <td>21</td>\n",
       "      <td>12</td>\n",
       "      <td>2018.0</td>\n",
       "      <td>21.234382</td>\n",
       "    </tr>\n",
       "    <tr>\n",
       "      <th>9486</th>\n",
       "      <td>22</td>\n",
       "      <td>12</td>\n",
       "      <td>2018.0</td>\n",
       "      <td>21.116459</td>\n",
       "    </tr>\n",
       "    <tr>\n",
       "      <th>9487</th>\n",
       "      <td>23</td>\n",
       "      <td>12</td>\n",
       "      <td>2018.0</td>\n",
       "      <td>21.057863</td>\n",
       "    </tr>\n",
       "    <tr>\n",
       "      <th>9488</th>\n",
       "      <td>24</td>\n",
       "      <td>12</td>\n",
       "      <td>2018.0</td>\n",
       "      <td>21.062258</td>\n",
       "    </tr>\n",
       "    <tr>\n",
       "      <th>9489</th>\n",
       "      <td>25</td>\n",
       "      <td>12</td>\n",
       "      <td>2018.0</td>\n",
       "      <td>21.076174</td>\n",
       "    </tr>\n",
       "  </tbody>\n",
       "</table>\n",
       "<p>9490 rows × 4 columns</p>\n",
       "</div>"
      ],
      "text/plain": [
       "     Day Month    Year        SST\n",
       "0      1     1  1993.0  19.395215\n",
       "1      2     1  1993.0  19.322703\n",
       "2      3     1  1993.0  19.307321\n",
       "3      4     1  1993.0  19.384960\n",
       "4      5     1  1993.0  19.454543\n",
       "...   ..   ...     ...        ...\n",
       "9485  21    12  2018.0  21.234382\n",
       "9486  22    12  2018.0  21.116459\n",
       "9487  23    12  2018.0  21.057863\n",
       "9488  24    12  2018.0  21.062258\n",
       "9489  25    12  2018.0  21.076174\n",
       "\n",
       "[9490 rows x 4 columns]"
      ]
     },
     "execution_count": 49,
     "metadata": {},
     "output_type": "execute_result"
    }
   ],
   "source": [
    "data_SST"
   ]
  },
  {
   "cell_type": "code",
   "execution_count": 57,
   "metadata": {},
   "outputs": [
    {
     "data": {
      "image/png": "[encoded data removed]",
      "text/plain": [
       "<Figure size 1008x360 with 1 Axes>"
      ]
     },
     "metadata": {
      "needs_background": "light"
     },
     "output_type": "display_data"
    }
   ],
   "source": [
    "plt.figure(figsize=(14,5))\n",
    "plt.scatter(data_SST.Year,data_SST.SST)\n",
    "plt.show()"
   ]
  },
  {
   "cell_type": "code",
   "execution_count": 58,
   "metadata": {},
   "outputs": [
    {
     "data": {
      "image/png": "[encoded data removed]",
      "text/plain": [
       "<Figure size 1008x360 with 1 Axes>"
      ]
     },
     "metadata": {
      "needs_background": "light"
     },
     "output_type": "display_data"
    }
   ],
   "source": [
    "plt.figure(figsize=(14,5))\n",
    "plt.scatter(data_SST.Day,data_SST.SST)\n",
    "plt.show()"
   ]
  },
  {
   "cell_type": "code",
   "execution_count": 59,
   "metadata": {},
   "outputs": [
    {
     "data": {
      "image/png": "[encoded data removed]",
      "text/plain": [
       "<Figure size 1008x360 with 1 Axes>"
      ]
     },
     "metadata": {
      "needs_background": "light"
     },
     "output_type": "display_data"
    }
   ],
   "source": [
    "plt.figure(figsize=(14,5))\n",
    "plt.scatter(data_SST.Month,data_SST.SST)\n",
    "plt.show()"
   ]
  },
  {
   "cell_type": "code",
   "execution_count": 124,
   "metadata": {},
   "outputs": [
    {
     "data": {
      "image/png": "[encoded data removed]",
      "text/plain": [
       "<Figure size 1008x360 with 1 Axes>"
      ]
     },
     "metadata": {
      "needs_background": "light"
     },
     "output_type": "display_data"
    }
   ],
   "source": [
    "plt.figure(figsize=(14,5))\n",
    "\n",
    "from matplotlib import pyplot as plt\n",
    "plt.scatter(data_SST.Day.loc[:100],data_SST.SST.loc[:100], c = \"red\",alpha=.5, marker = 'o')\n",
    "plt.xlabel(\"X\")\n",
    "plt.ylabel(\"Y\")\n",
    "plt.show()"
   ]
  },
  {
   "cell_type": "code",
   "execution_count": 74,
   "metadata": {},
   "outputs": [
    {
     "data": {
      "text/plain": [
       "<matplotlib.axes._subplots.AxesSubplot at 0x7f5390880550>"
      ]
     },
     "execution_count": 74,
     "metadata": {},
     "output_type": "execute_result"
    },
    {
     "data": {
      "image/png": "[encoded data removed]",
      "text/plain": [
       "<Figure size 1008x360 with 1 Axes>"
      ]
     },
     "metadata": {
      "needs_background": "light"
     },
     "output_type": "display_data"
    }
   ],
   "source": [
    "plt.figure(figsize=(14,5))\n",
    "data_SST.SST.hist(bins=50)"
   ]
  },
  {
   "cell_type": "code",
   "execution_count": 105,
   "metadata": {},
   "outputs": [],
   "source": [
    "subsetDataFrame_1993 = data_SST[data_SST['Year'] == 1993.0]\n"
   ]
  },
  {
   "cell_type": "code",
   "execution_count": 106,
   "metadata": {},
   "outputs": [],
   "source": [
    "del subsetDataFrame_1993['Month']"
   ]
  },
  {
   "cell_type": "code",
   "execution_count": 107,
   "metadata": {},
   "outputs": [],
   "source": [
    "del subsetDataFrame_1993['Year']"
   ]
  },
  {
   "cell_type": "code",
   "execution_count": 109,
   "metadata": {},
   "outputs": [
    {
     "data": {
      "text/plain": [
       "<matplotlib.axes._subplots.AxesSubplot at 0x7f538f886ad0>"
      ]
     },
     "execution_count": 109,
     "metadata": {},
     "output_type": "execute_result"
    },
    {
     "data": {
      "image/png": "[encoded data removed]",
      "text/plain": [
       "<Figure size 432x288 with 1 Axes>"
      ]
     },
     "metadata": {
      "needs_background": "light"
     },
     "output_type": "display_data"
    }
   ],
   "source": [
    "subsetDataFrame_1993.plot()"
   ]
  },
  {
   "cell_type": "code",
   "execution_count": 110,
   "metadata": {},
   "outputs": [],
   "source": [
    "subsetDataFrame_2018 = data_SST[data_SST['Year'] == 2018.0]"
   ]
  },
  {
   "cell_type": "code",
   "execution_count": 111,
   "metadata": {},
   "outputs": [],
   "source": [
    "del subsetDataFrame_2018['Month']"
   ]
  },
  {
   "cell_type": "code",
   "execution_count": 112,
   "metadata": {},
   "outputs": [],
   "source": [
    "del subsetDataFrame_2018['Year']"
   ]
  },
  {
   "cell_type": "code",
   "execution_count": 113,
   "metadata": {},
   "outputs": [
    {
     "data": {
      "text/plain": [
       "<matplotlib.axes._subplots.AxesSubplot at 0x7f538f77e950>"
      ]
     },
     "execution_count": 113,
     "metadata": {},
     "output_type": "execute_result"
    },
    {
     "data": {
      "image/png": "[encoded data removed]",
      "text/plain": [
       "<Figure size 432x288 with 1 Axes>"
      ]
     },
     "metadata": {
      "needs_background": "light"
     },
     "output_type": "display_data"
    }
   ],
   "source": [
    "subsetDataFrame_2018.plot()"
   ]
  },
  {
   "cell_type": "code",
   "execution_count": 187,
   "metadata": {},
   "outputs": [
    {
     "data": {
      "text/html": [
       "<div>\n",
       "<style scoped>\n",
       "    .dataframe tbody tr th:only-of-type {\n",
       "        vertical-align: middle;\n",
       "    }\n",
       "\n",
       "    .dataframe tbody tr th {\n",
       "        vertical-align: top;\n",
       "    }\n",
       "\n",
       "    .dataframe thead th {\n",
       "        text-align: right;\n",
       "    }\n",
       "</style>\n",
       "<table border=\"1\" class=\"dataframe\">\n",
       "  <thead>\n",
       "    <tr style=\"text-align: right;\">\n",
       "      <th></th>\n",
       "      <th>Day</th>\n",
       "      <th>Month</th>\n",
       "      <th>Year</th>\n",
       "      <th>SST</th>\n",
       "    </tr>\n",
       "  </thead>\n",
       "  <tbody>\n",
       "    <tr>\n",
       "      <th>0</th>\n",
       "      <td>1</td>\n",
       "      <td>1</td>\n",
       "      <td>1993.0</td>\n",
       "      <td>19.395215</td>\n",
       "    </tr>\n",
       "    <tr>\n",
       "      <th>1</th>\n",
       "      <td>2</td>\n",
       "      <td>1</td>\n",
       "      <td>1993.0</td>\n",
       "      <td>19.322703</td>\n",
       "    </tr>\n",
       "    <tr>\n",
       "      <th>2</th>\n",
       "      <td>3</td>\n",
       "      <td>1</td>\n",
       "      <td>1993.0</td>\n",
       "      <td>19.307321</td>\n",
       "    </tr>\n",
       "    <tr>\n",
       "      <th>3</th>\n",
       "      <td>4</td>\n",
       "      <td>1</td>\n",
       "      <td>1993.0</td>\n",
       "      <td>19.384960</td>\n",
       "    </tr>\n",
       "    <tr>\n",
       "      <th>4</th>\n",
       "      <td>5</td>\n",
       "      <td>1</td>\n",
       "      <td>1993.0</td>\n",
       "      <td>19.454543</td>\n",
       "    </tr>\n",
       "    <tr>\n",
       "      <th>...</th>\n",
       "      <td>...</td>\n",
       "      <td>...</td>\n",
       "      <td>...</td>\n",
       "      <td>...</td>\n",
       "    </tr>\n",
       "    <tr>\n",
       "      <th>9485</th>\n",
       "      <td>21</td>\n",
       "      <td>12</td>\n",
       "      <td>2018.0</td>\n",
       "      <td>21.234382</td>\n",
       "    </tr>\n",
       "    <tr>\n",
       "      <th>9486</th>\n",
       "      <td>22</td>\n",
       "      <td>12</td>\n",
       "      <td>2018.0</td>\n",
       "      <td>21.116459</td>\n",
       "    </tr>\n",
       "    <tr>\n",
       "      <th>9487</th>\n",
       "      <td>23</td>\n",
       "      <td>12</td>\n",
       "      <td>2018.0</td>\n",
       "      <td>21.057863</td>\n",
       "    </tr>\n",
       "    <tr>\n",
       "      <th>9488</th>\n",
       "      <td>24</td>\n",
       "      <td>12</td>\n",
       "      <td>2018.0</td>\n",
       "      <td>21.062258</td>\n",
       "    </tr>\n",
       "    <tr>\n",
       "      <th>9489</th>\n",
       "      <td>25</td>\n",
       "      <td>12</td>\n",
       "      <td>2018.0</td>\n",
       "      <td>21.076174</td>\n",
       "    </tr>\n",
       "  </tbody>\n",
       "</table>\n",
       "<p>9490 rows × 4 columns</p>\n",
       "</div>"
      ],
      "text/plain": [
       "     Day Month    Year        SST\n",
       "0      1     1  1993.0  19.395215\n",
       "1      2     1  1993.0  19.322703\n",
       "2      3     1  1993.0  19.307321\n",
       "3      4     1  1993.0  19.384960\n",
       "4      5     1  1993.0  19.454543\n",
       "...   ..   ...     ...        ...\n",
       "9485  21    12  2018.0  21.234382\n",
       "9486  22    12  2018.0  21.116459\n",
       "9487  23    12  2018.0  21.057863\n",
       "9488  24    12  2018.0  21.062258\n",
       "9489  25    12  2018.0  21.076174\n",
       "\n",
       "[9490 rows x 4 columns]"
      ]
     },
     "execution_count": 187,
     "metadata": {},
     "output_type": "execute_result"
    }
   ],
   "source": [
    "data_SST"
   ]
  },
  {
   "cell_type": "code",
   "execution_count": 193,
   "metadata": {},
   "outputs": [
    {
     "name": "stdout",
     "output_type": "stream",
     "text": [
      "shape of X:  (9490, 3)\n",
      "shape of y:  (9490, 1)\n"
     ]
    }
   ],
   "source": [
    "#Input values of features\n",
    "X = data_SST.drop(columns='SST')\n",
    "print('shape of X: ',X.shape)\n",
    "\n",
    "#Output values of features\n",
    "y = data_SST.SST.values.reshape(-1,1)\n",
    "print('shape of y: ',y.shape)\n",
    "\n",
    "#splitting data into train and test set\n",
    "x_train,x_test,y_train,y_test = train_test_split(X, y, test_size=0.2, random_state=0)"
   ]
  },
  {
   "cell_type": "code",
   "execution_count": 195,
   "metadata": {},
   "outputs": [
    {
     "name": "stdout",
     "output_type": "stream",
     "text": [
      "(7592, 3)\n",
      "(7592, 1)\n",
      "(1898, 3)\n",
      "(1898, 1)\n"
     ]
    }
   ],
   "source": [
    "print(x_train.shape)\n",
    "print(y_train.shape)\n",
    "print(x_test.shape)\n",
    "print(y_test.shape)"
   ]
  },
  {
   "cell_type": "code",
   "execution_count": 208,
   "metadata": {},
   "outputs": [
    {
     "name": "stdout",
     "output_type": "stream",
     "text": [
      "WARNING:tensorflow:The `nb_epoch` argument in `fit` has been renamed `epochs`.\n",
      "Train on 7592 samples\n",
      "Epoch 1/100\n",
      "7592/7592 [==============================] - 0s 54us/sample - loss: 162.7952\n",
      "Epoch 2/100\n",
      "7592/7592 [==============================] - 0s 31us/sample - loss: 14.0263\n",
      "Epoch 3/100\n",
      "7592/7592 [==============================] - 0s 28us/sample - loss: 12.9324\n",
      "Epoch 4/100\n",
      "7592/7592 [==============================] - 0s 28us/sample - loss: 11.7310\n",
      "Epoch 5/100\n",
      "7592/7592 [==============================] - 0s 28us/sample - loss: 10.4412\n",
      "Epoch 6/100\n",
      "7592/7592 [==============================] - 0s 28us/sample - loss: 10.1880\n",
      "Epoch 7/100\n",
      "7592/7592 [==============================] - 0s 30us/sample - loss: 9.9976\n",
      "Epoch 8/100\n",
      "7592/7592 [==============================] - 0s 30us/sample - loss: 9.8005\n",
      "Epoch 9/100\n",
      "7592/7592 [==============================] - 0s 29us/sample - loss: 9.5372\n",
      "Epoch 10/100\n",
      "7592/7592 [==============================] - 0s 33us/sample - loss: 9.3111\n",
      "Epoch 11/100\n",
      "7592/7592 [==============================] - 0s 39us/sample - loss: 9.3225\n",
      "Epoch 12/100\n",
      "7592/7592 [==============================] - 0s 29us/sample - loss: 9.4838\n",
      "Epoch 13/100\n",
      "7592/7592 [==============================] - 0s 29us/sample - loss: 9.5534\n",
      "Epoch 14/100\n",
      "7592/7592 [==============================] - 0s 30us/sample - loss: 9.5843\n",
      "Epoch 15/100\n",
      "7592/7592 [==============================] - 0s 30us/sample - loss: 9.6092\n",
      "Epoch 16/100\n",
      "7592/7592 [==============================] - 0s 30us/sample - loss: 9.6341\n",
      "Epoch 17/100\n",
      "7592/7592 [==============================] - 0s 30us/sample - loss: 9.6450\n",
      "Epoch 18/100\n",
      "7592/7592 [==============================] - 0s 29us/sample - loss: 9.6372\n",
      "Epoch 19/100\n",
      "7592/7592 [==============================] - 0s 28us/sample - loss: 9.6203\n",
      "Epoch 20/100\n",
      "7592/7592 [==============================] - 0s 28us/sample - loss: 9.6213\n",
      "Epoch 21/100\n",
      "7592/7592 [==============================] - 0s 29us/sample - loss: 9.5855\n",
      "Epoch 22/100\n",
      "7592/7592 [==============================] - 0s 28us/sample - loss: 9.5507\n",
      "Epoch 23/100\n",
      "7592/7592 [==============================] - 0s 29us/sample - loss: 9.5053\n",
      "Epoch 24/100\n",
      "7592/7592 [==============================] - 0s 29us/sample - loss: 9.4202\n",
      "Epoch 25/100\n",
      "7592/7592 [==============================] - 0s 28us/sample - loss: 9.2998\n",
      "Epoch 26/100\n",
      "7592/7592 [==============================] - 0s 29us/sample - loss: 9.1462\n",
      "Epoch 27/100\n",
      "7592/7592 [==============================] - 0s 29us/sample - loss: 8.9733\n",
      "Epoch 28/100\n",
      "7592/7592 [==============================] - 0s 29us/sample - loss: 8.7843\n",
      "Epoch 29/100\n",
      "7592/7592 [==============================] - 0s 28us/sample - loss: 8.5686\n",
      "Epoch 30/100\n",
      "7592/7592 [==============================] - 0s 28us/sample - loss: 8.3604\n",
      "Epoch 31/100\n",
      "7592/7592 [==============================] - 0s 28us/sample - loss: 8.1458\n",
      "Epoch 32/100\n",
      "7592/7592 [==============================] - 0s 30us/sample - loss: 7.9584\n",
      "Epoch 33/100\n",
      "7592/7592 [==============================] - 0s 30us/sample - loss: 7.7322\n",
      "Epoch 34/100\n",
      "7592/7592 [==============================] - 0s 29us/sample - loss: 7.5451\n",
      "Epoch 35/100\n",
      "7592/7592 [==============================] - 0s 29us/sample - loss: 7.3668\n",
      "Epoch 36/100\n",
      "7592/7592 [==============================] - 0s 28us/sample - loss: 7.2266\n",
      "Epoch 37/100\n",
      "7592/7592 [==============================] - 0s 30us/sample - loss: 7.1637\n",
      "Epoch 38/100\n",
      "7592/7592 [==============================] - 0s 28us/sample - loss: 7.1187\n",
      "Epoch 39/100\n",
      "7592/7592 [==============================] - 0s 29us/sample - loss: 7.0346\n",
      "Epoch 40/100\n",
      "7592/7592 [==============================] - 0s 29us/sample - loss: 6.8488\n",
      "Epoch 41/100\n",
      "7592/7592 [==============================] - 0s 29us/sample - loss: 6.6358\n",
      "Epoch 42/100\n",
      "7592/7592 [==============================] - 0s 30us/sample - loss: 6.5075\n",
      "Epoch 43/100\n",
      "7592/7592 [==============================] - 0s 29us/sample - loss: 6.4330\n",
      "Epoch 44/100\n",
      "7592/7592 [==============================] - 0s 29us/sample - loss: 6.2692\n",
      "Epoch 45/100\n",
      "7592/7592 [==============================] - 0s 27us/sample - loss: 6.1624\n",
      "Epoch 46/100\n",
      "7592/7592 [==============================] - 0s 28us/sample - loss: 6.0774\n",
      "Epoch 47/100\n",
      "7592/7592 [==============================] - 0s 28us/sample - loss: 7.5873\n",
      "Epoch 48/100\n",
      "7592/7592 [==============================] - 0s 29us/sample - loss: 6.2448\n",
      "Epoch 49/100\n",
      "7592/7592 [==============================] - 0s 29us/sample - loss: 6.0108\n",
      "Epoch 50/100\n",
      "7592/7592 [==============================] - 0s 30us/sample - loss: 5.9183\n",
      "Epoch 51/100\n",
      "7592/7592 [==============================] - 0s 27us/sample - loss: 5.8523\n",
      "Epoch 52/100\n",
      "7592/7592 [==============================] - 0s 30us/sample - loss: 5.7947\n",
      "Epoch 53/100\n",
      "7592/7592 [==============================] - 0s 31us/sample - loss: 5.7392\n",
      "Epoch 54/100\n",
      "7592/7592 [==============================] - 0s 27us/sample - loss: 5.6874\n",
      "Epoch 55/100\n",
      "7592/7592 [==============================] - 0s 32us/sample - loss: 5.6427\n",
      "Epoch 56/100\n",
      "7592/7592 [==============================] - 0s 38us/sample - loss: 5.5978\n",
      "Epoch 57/100\n",
      "7592/7592 [==============================] - 0s 37us/sample - loss: 5.5549\n",
      "Epoch 58/100\n",
      "7592/7592 [==============================] - 0s 30us/sample - loss: 5.5158\n",
      "Epoch 59/100\n",
      "7592/7592 [==============================] - 0s 28us/sample - loss: 5.4713\n",
      "Epoch 60/100\n",
      "7592/7592 [==============================] - 0s 30us/sample - loss: 5.4135\n",
      "Epoch 61/100\n",
      "7592/7592 [==============================] - 0s 28us/sample - loss: 5.3871\n",
      "Epoch 62/100\n",
      "7592/7592 [==============================] - 0s 38us/sample - loss: 5.3434\n",
      "Epoch 63/100\n",
      "7592/7592 [==============================] - 0s 39us/sample - loss: 5.2995\n",
      "Epoch 64/100\n",
      "7592/7592 [==============================] - 0s 48us/sample - loss: 5.2418\n",
      "Epoch 65/100\n",
      "7592/7592 [==============================] - 0s 39us/sample - loss: 5.1928\n",
      "Epoch 66/100\n",
      "7592/7592 [==============================] - 0s 32us/sample - loss: 5.1464\n",
      "Epoch 67/100\n",
      "7592/7592 [==============================] - 0s 29us/sample - loss: 5.1077\n",
      "Epoch 68/100\n",
      "7592/7592 [==============================] - 0s 30us/sample - loss: 5.0683\n",
      "Epoch 69/100\n",
      "7592/7592 [==============================] - 0s 35us/sample - loss: 5.0416\n",
      "Epoch 70/100\n",
      "7592/7592 [==============================] - 0s 39us/sample - loss: 5.0147\n",
      "Epoch 71/100\n",
      "7592/7592 [==============================] - 0s 34us/sample - loss: 4.9845\n",
      "Epoch 72/100\n",
      "7592/7592 [==============================] - 0s 45us/sample - loss: 5.0331\n",
      "Epoch 73/100\n",
      "7592/7592 [==============================] - 0s 45us/sample - loss: 4.8698\n",
      "Epoch 74/100\n",
      "7592/7592 [==============================] - 0s 34us/sample - loss: 4.9140\n",
      "Epoch 75/100\n",
      "7592/7592 [==============================] - 0s 31us/sample - loss: 4.9301\n",
      "Epoch 76/100\n",
      "7592/7592 [==============================] - 0s 30us/sample - loss: 4.9050\n",
      "Epoch 77/100\n",
      "7592/7592 [==============================] - 0s 27us/sample - loss: 4.8729\n",
      "Epoch 78/100\n",
      "7592/7592 [==============================] - 0s 28us/sample - loss: 4.8433\n",
      "Epoch 79/100\n",
      "7592/7592 [==============================] - 0s 29us/sample - loss: 5.1535\n",
      "Epoch 80/100\n",
      "7592/7592 [==============================] - 0s 32us/sample - loss: 4.7407\n",
      "Epoch 81/100\n",
      "7592/7592 [==============================] - 0s 36us/sample - loss: 4.9331\n",
      "Epoch 82/100\n",
      "7592/7592 [==============================] - 0s 39us/sample - loss: 4.7558\n",
      "Epoch 83/100\n",
      "7592/7592 [==============================] - 0s 40us/sample - loss: 4.6841\n",
      "Epoch 84/100\n",
      "7592/7592 [==============================] - 0s 42us/sample - loss: 4.6225\n",
      "Epoch 85/100\n",
      "7592/7592 [==============================] - 0s 40us/sample - loss: 4.6334\n",
      "Epoch 86/100\n",
      "7592/7592 [==============================] - 0s 40us/sample - loss: 4.6168\n",
      "Epoch 87/100\n",
      "7592/7592 [==============================] - 0s 42us/sample - loss: 4.5401\n",
      "Epoch 88/100\n",
      "7592/7592 [==============================] - 0s 43us/sample - loss: 4.4690\n",
      "Epoch 89/100\n",
      "7592/7592 [==============================] - 0s 42us/sample - loss: 4.3943\n",
      "Epoch 90/100\n",
      "7592/7592 [==============================] - 0s 41us/sample - loss: 4.3311\n",
      "Epoch 91/100\n",
      "7592/7592 [==============================] - 0s 43us/sample - loss: 4.1917\n",
      "Epoch 92/100\n",
      "7592/7592 [==============================] - 0s 42us/sample - loss: 4.0414\n"
     ]
    },
    {
     "name": "stdout",
     "output_type": "stream",
     "text": [
      "Epoch 93/100\n",
      "7592/7592 [==============================] - 0s 54us/sample - loss: 4.0229\n",
      "Epoch 94/100\n",
      "7592/7592 [==============================] - 0s 48us/sample - loss: 3.7551\n",
      "Epoch 95/100\n",
      "7592/7592 [==============================] - 0s 43us/sample - loss: 3.6825\n",
      "Epoch 96/100\n",
      "7592/7592 [==============================] - 0s 40us/sample - loss: 3.3949\n",
      "Epoch 97/100\n",
      "7592/7592 [==============================] - 0s 43us/sample - loss: 3.1699\n",
      "Epoch 98/100\n",
      "7592/7592 [==============================] - 0s 44us/sample - loss: 2.8893\n",
      "Epoch 99/100\n",
      "7592/7592 [==============================] - 0s 41us/sample - loss: 2.4736\n",
      "Epoch 100/100\n",
      "7592/7592 [==============================] - 0s 44us/sample - loss: 2.3330\n"
     ]
    },
    {
     "data": {
      "text/plain": [
       "<tensorflow.python.keras.callbacks.History at 0x7f52e87f58d0>"
      ]
     },
     "execution_count": 208,
     "metadata": {},
     "output_type": "execute_result"
    }
   ],
   "source": [
    "model_SST = BuildModel()\n",
    "model_SST.fit(npp, y_train, nb_epoch=100, verbose=1, shuffle=False)\n"
   ]
  },
  {
   "cell_type": "code",
   "execution_count": 199,
   "metadata": {},
   "outputs": [
    {
     "data": {
      "text/plain": [
       "array([[22.22830897],\n",
       "       [22.05618457],\n",
       "       [18.66716514],\n",
       "       ...,\n",
       "       [17.91933958],\n",
       "       [21.39625233],\n",
       "       [23.45149083]])"
      ]
     },
     "execution_count": 199,
     "metadata": {},
     "output_type": "execute_result"
    }
   ],
   "source": [
    "y_train"
   ]
  },
  {
   "cell_type": "code",
   "execution_count": 206,
   "metadata": {},
   "outputs": [],
   "source": [
    "npp=x_train.astype(int)"
   ]
  },
  {
   "cell_type": "code",
   "execution_count": 207,
   "metadata": {},
   "outputs": [
    {
     "data": {
      "text/html": [
       "<div>\n",
       "<style scoped>\n",
       "    .dataframe tbody tr th:only-of-type {\n",
       "        vertical-align: middle;\n",
       "    }\n",
       "\n",
       "    .dataframe tbody tr th {\n",
       "        vertical-align: top;\n",
       "    }\n",
       "\n",
       "    .dataframe thead th {\n",
       "        text-align: right;\n",
       "    }\n",
       "</style>\n",
       "<table border=\"1\" class=\"dataframe\">\n",
       "  <thead>\n",
       "    <tr style=\"text-align: right;\">\n",
       "      <th></th>\n",
       "      <th>Day</th>\n",
       "      <th>Month</th>\n",
       "      <th>Year</th>\n",
       "    </tr>\n",
       "  </thead>\n",
       "  <tbody>\n",
       "    <tr>\n",
       "      <th>7490</th>\n",
       "      <td>5</td>\n",
       "      <td>7</td>\n",
       "      <td>2013</td>\n",
       "    </tr>\n",
       "    <tr>\n",
       "      <th>8744</th>\n",
       "      <td>10</td>\n",
       "      <td>12</td>\n",
       "      <td>2016</td>\n",
       "    </tr>\n",
       "    <tr>\n",
       "      <th>6595</th>\n",
       "      <td>22</td>\n",
       "      <td>1</td>\n",
       "      <td>2011</td>\n",
       "    </tr>\n",
       "    <tr>\n",
       "      <th>2797</th>\n",
       "      <td>29</td>\n",
       "      <td>8</td>\n",
       "      <td>2000</td>\n",
       "    </tr>\n",
       "    <tr>\n",
       "      <th>7047</th>\n",
       "      <td>18</td>\n",
       "      <td>4</td>\n",
       "      <td>2012</td>\n",
       "    </tr>\n",
       "    <tr>\n",
       "      <th>...</th>\n",
       "      <td>...</td>\n",
       "      <td>...</td>\n",
       "      <td>...</td>\n",
       "    </tr>\n",
       "    <tr>\n",
       "      <th>7891</th>\n",
       "      <td>10</td>\n",
       "      <td>8</td>\n",
       "      <td>2014</td>\n",
       "    </tr>\n",
       "    <tr>\n",
       "      <th>9225</th>\n",
       "      <td>5</td>\n",
       "      <td>4</td>\n",
       "      <td>2018</td>\n",
       "    </tr>\n",
       "    <tr>\n",
       "      <th>4859</th>\n",
       "      <td>22</td>\n",
       "      <td>4</td>\n",
       "      <td>2006</td>\n",
       "    </tr>\n",
       "    <tr>\n",
       "      <th>3264</th>\n",
       "      <td>9</td>\n",
       "      <td>12</td>\n",
       "      <td>2001</td>\n",
       "    </tr>\n",
       "    <tr>\n",
       "      <th>2732</th>\n",
       "      <td>25</td>\n",
       "      <td>6</td>\n",
       "      <td>2000</td>\n",
       "    </tr>\n",
       "  </tbody>\n",
       "</table>\n",
       "<p>7592 rows × 3 columns</p>\n",
       "</div>"
      ],
      "text/plain": [
       "      Day  Month  Year\n",
       "7490    5      7  2013\n",
       "8744   10     12  2016\n",
       "6595   22      1  2011\n",
       "2797   29      8  2000\n",
       "7047   18      4  2012\n",
       "...   ...    ...   ...\n",
       "7891   10      8  2014\n",
       "9225    5      4  2018\n",
       "4859   22      4  2006\n",
       "3264    9     12  2001\n",
       "2732   25      6  2000\n",
       "\n",
       "[7592 rows x 3 columns]"
      ]
     },
     "execution_count": 207,
     "metadata": {},
     "output_type": "execute_result"
    }
   ],
   "source": [
    "npp"
   ]
  },
  {
   "cell_type": "code",
   "execution_count": 213,
   "metadata": {},
   "outputs": [],
   "source": [
    "y_krm_sst = model.predict(x_train.astype(int)) "
   ]
  },
  {
   "cell_type": "code",
   "execution_count": 214,
   "metadata": {},
   "outputs": [
    {
     "name": "stdout",
     "output_type": "stream",
     "text": [
      "19012.959518963115\n"
     ]
    }
   ],
   "source": [
    "mse_krm_sst=mean_squared_error(y_train, y_krm_sst)\n",
    "print(mse_krm_sst)"
   ]
  },
  {
   "cell_type": "code",
   "execution_count": 215,
   "metadata": {},
   "outputs": [
    {
     "data": {
      "text/plain": [
       "array([[154.57088],\n",
       "       [160.14333],\n",
       "       [160.7634 ],\n",
       "       ...,\n",
       "       [161.94191],\n",
       "       [158.48477],\n",
       "       [164.19583]], dtype=float32)"
      ]
     },
     "execution_count": 215,
     "metadata": {},
     "output_type": "execute_result"
    }
   ],
   "source": [
    "y_krm_sst"
   ]
  },
  {
   "cell_type": "code",
   "execution_count": null,
   "metadata": {},
   "outputs": [],
   "source": []
  }
 ],
 "metadata": {
  "kernelspec": {
   "display_name": "myenv",
   "language": "python",
   "name": "myenv"
  },
  "language_info": {
   "codemirror_mode": {
    "name": "ipython",
    "version": 3
   },
   "file_extension": ".py",
   "mimetype": "text/x-python",
   "name": "python",
   "nbconvert_exporter": "python",
   "pygments_lexer": "ipython3",
   "version": "3.7.6"
  }
 },
 "nbformat": 4,
 "nbformat_minor": 4
}
